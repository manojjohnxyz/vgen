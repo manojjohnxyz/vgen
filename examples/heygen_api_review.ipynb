{
 "cells": [
  {
   "cell_type": "markdown",
   "id": "48e90e21-09b9-40ac-aa07-84c1e9c112fb",
   "metadata": {},
   "source": [
    "### resource limits\n",
    "Indicates that the output limit seems to be based on size.  \n",
    "https://docs.heygen.com/reference/limits#resource-limits\n",
    "\n",
    "### streaming generation (real-time interactive gen)\n",
    "It appears there is a beta version that allows interactive generation as well (in addition to async).  \n",
    "https://docs.heygen.com/reference/overview-copy#video-tutorials"
   ]
  },
  {
   "cell_type": "code",
   "execution_count": 1,
   "id": "c3f95d25-33ef-492f-99cd-6331ccf13ee4",
   "metadata": {},
   "outputs": [],
   "source": [
    "import requests\n",
    "import json\n",
    "import os"
   ]
  },
  {
   "cell_type": "code",
   "execution_count": 2,
   "id": "cfce235a-a06e-4f8b-99d6-25231962f261",
   "metadata": {},
   "outputs": [],
   "source": [
    "# get from env var\n",
    "HG_API_KEY = os.environ[\"HG_API_KEY\"]"
   ]
  },
  {
   "cell_type": "markdown",
   "id": "34b3f413-0d97-4a4d-a98f-06c4fc98aeda",
   "metadata": {},
   "source": [
    "### list avatars already present"
   ]
  },
  {
   "cell_type": "code",
   "execution_count": 6,
   "id": "d2fd6f18-7183-40cd-8991-831d24f18947",
   "metadata": {},
   "outputs": [],
   "source": [
    "URL_AVATAR_LIST = \"https://api.heygen.com/v2/avatars\"\n",
    "\n",
    "headers = {\n",
    "    'accept': 'application/json',\n",
    "    'x-api-key': HG_API_KEY \n",
    "}\n"
   ]
  },
  {
   "cell_type": "code",
   "execution_count": 7,
   "id": "5f45adb4-70aa-43f8-a5b6-08777b5dffa1",
   "metadata": {},
   "outputs": [],
   "source": [
    "avatar_list_response = requests.get(url=URL_AVATAR_LIST, headers=headers)"
   ]
  },
  {
   "cell_type": "code",
   "execution_count": 18,
   "id": "bcfb82cc-89fc-474f-a656-03e8a6195fd7",
   "metadata": {},
   "outputs": [
    {
     "name": "stdout",
     "output_type": "stream",
     "text": [
      "[\n",
      "    {\n",
      "        \"talking_photo_id\": \"aacd116712c6487b8db4bfe40243c0e0\",\n",
      "        \"talking_photo_name\": \"TalkingPhoto\",\n",
      "        \"preview_image_url\": \"https://files.heygen.ai/prod/movio/url_upload/user_upload/e664822f52e742e09e517d16ed85811b/c255e3c4db0c4925806311bc6cf8ffbb.png?Expires=1706903562&Signature=TmMq6NXH6Fd~QairekonjY3L-5cAXnAAwtwLZjVgDhy~Qeh9cWNWiWyBVSj-4j6KyWNQ4s2oXzbqEp3PCkboAhnnsVA-RjXrCcBpKhmozA7dm4pH2gYvHZWWNgIN0U7Fa4~XvoVqz9tmRQYtvaoHrPNLJaEtZ2uHfrA~xKtVHYPh1vRlEf0ejQsW9gJAICZR-rktHFLcJNRoNHpR99tK4V91p77tpbTi~Oodp8-1ydYpmoEkMqE2lcZNvBnZcDADOSvWCJvJFVIpAbLJDmwd5C1KW6H235t-KozWB9jwxxHh6M~eEldfw99WDiUucYGvVhjDvqRT4oOEpcmkw211xQ__&Key-Pair-Id=K49TZTO9GZI6K\"\n",
      "    },\n",
      "    {\n",
      "        \"talking_photo_id\": \"ba9c11684315405aac1dd8ed987fdda2\",\n",
      "        \"talking_photo_name\": \"Felix\",\n",
      "        \"preview_image_url\": \"https://files.heygen.ai/prod/movio/url_upload/user_upload/632e0fe43dbf472cabecf45d5780856f/35dcedc4cc4e4d7db61b341e9c2aa271.jpeg?Expires=1707010866&Signature=dd038opJ9KaA2P5ohvbe-Kjv0mCXH5SRM~tRX1PIkOi3WJ4siV3uStIkfjmXbd2Yk1hXvsagASTcsxQneqSKWCQlfd6XdRAQKJSMURCF880rFjyDDEVKlH-S2wyzgel6Q7MO0aroNPFt5xMfnTMKUTyKZenvXSbJ6-P1caNj0pb-ENuY1c5hAxz330UR6T-MYlZX~sDLGokujhIm0Trazv5Hvh9R5Ny9fxsqFew~yOArabXlcFotTmRySAcJmg5Y600ldZ1A4OV~tiXulNAO7wjmqOFu-s5~Dgy1wiXm2GtZt45oaPa~Ttkfwb6KrQHlNnN4Utx3Wlda7asZvP-84w__&Key-Pair-Id=K49TZTO9GZI6K\"\n",
      "    }\n",
      "]\n"
     ]
    }
   ],
   "source": [
    "print(json.dumps(avatar_list_response.json()[\"data\"][\"talking_photos\"][:2], indent=4))"
   ]
  },
  {
   "cell_type": "markdown",
   "id": "b73bfeda-1a3e-4a37-9a85-d6ade7ff8537",
   "metadata": {},
   "source": [
    "### generate video"
   ]
  },
  {
   "cell_type": "markdown",
   "id": "8643c018-170c-4d85-9da3-b5c919ce79dc",
   "metadata": {},
   "source": [
    "Among many input fields, the three important ones are the following:  \n",
    "* input_text - used for text-to-speech (TTS) content\n",
    "* talking_photo_id (or avatar or videos ids) - reference image/video identifiers in the account. I have used a static image as talking_photo in this example.\n",
    "* voice_id - audio reference for generated TTS content."
   ]
  },
  {
   "cell_type": "markdown",
   "id": "cdd78048-9ed3-4e39-bab4-08c92e02a498",
   "metadata": {},
   "source": [
    "### async behavior\n",
    "* The POST call to `/v2/video/generate` will give identifiers in its response for subsequent status check calls to `video_status.get`\n",
    "* `/video_status.get` the job status and generated video URLs\n",
    "\n",
    "So, a wrapper module/API around these would follow a similar logic"
   ]
  },
  {
   "cell_type": "code",
   "execution_count": 76,
   "id": "6116a985-4eac-4f8c-9f1b-1bd996e7f686",
   "metadata": {},
   "outputs": [],
   "source": [
    "VIDEO_GENERATE_URL = \"https://api.heygen.com/v2/video/generate\""
   ]
  },
  {
   "cell_type": "code",
   "execution_count": 5,
   "id": "ae68a777-7120-4485-b553-8c83361ec07e",
   "metadata": {},
   "outputs": [],
   "source": [
    "# ID of an image already uploaded to heygen account\n",
    "# heygen apparently categorizes it as \"talking photo\"\n",
    "talking_photo_id = \"aacd116712c6487b8db4bfe40243c0e0\"\n",
    "\n",
    "# input prompt for TTS\n",
    "input_text = \"\"\"\n",
    "After the Japan Aerospace Exploration Agency (Jaxa) re-established contact with its Moon lander on Sunday night, the craft started to study its surroundings in detail and transmit new images to Earth.\n",
    "The lander is carrying out analysis that could inform future, much longer missions to the Moon.\n",
    "One lunar scientist told BBC News: \"Now we're really seeing the science.\"\n",
    "\n",
    "The craft is at a very awkward angle. A picture, captured by the small baseball-sized robot called Sora-Q - which was ejected from Slim moments before touchdown - showed the lander face-down on the lunar surface.\n",
    "That left its solar panels facing away from the sunlight and unable to generate power. The decision was taken to put the lander into sleep mode - and conserve what power remained - less than three hours after it landed.\n",
    "\n",
    "\"\"\"\n",
    "\n",
    "voice_id = \"d7bbcdd6964c47bdaae26decade4a933\""
   ]
  },
  {
   "cell_type": "code",
   "execution_count": 78,
   "id": "5d11c286-c04b-4c52-b39d-30d8aa522c44",
   "metadata": {},
   "outputs": [],
   "source": [
    "payload = {\n",
    "    \"video_inputs\": [\n",
    "        {\n",
    "            \"character\": {\n",
    "                \"type\": \"talking_photo\",\n",
    "                \"talking_photo_id\": talking_photo_id\n",
    "            },\n",
    "            \"voice\": {\n",
    "                \"type\": \"text\",\n",
    "                \"input_text\": input_text,\n",
    "                \"voice_id\": voice_id\n",
    "            },\n",
    "            \"background\": {\n",
    "                \"type\": \"color\",\n",
    "                \"value\": \"#FAFAFA\"\n",
    "            }\n",
    "        }\n",
    "    ],\n",
    "  \"test\": True,\n",
    "  \"aspect_ratio\": \"16:9\",\n",
    "  \"version\": \"v1alpha\"\n",
    "}\n",
    "headers = {\n",
    "    \"accept\": \"application/json\",\n",
    "    \"content-type\": \"application/json\",\n",
    "    'x-api-key': HG_API_KEY \n",
    "}\n"
   ]
  },
  {
   "cell_type": "code",
   "execution_count": 79,
   "id": "652eddbe-013b-4bf9-a704-e911541885a5",
   "metadata": {},
   "outputs": [],
   "source": [
    "response = requests.post(url=VIDEO_GENERATE_URL, json=payload, headers=headers)"
   ]
  },
  {
   "cell_type": "code",
   "execution_count": 80,
   "id": "80cea103-8cd3-478a-935f-f4699f00a9cf",
   "metadata": {},
   "outputs": [
    {
     "name": "stdout",
     "output_type": "stream",
     "text": [
      "{\"data\":null,\"error\":{\"code\":\"trial_video_limit_exceeded\",\"message\":\"It seems you've reached your daily api trial limit 5.\"}}\n",
      "\n"
     ]
    }
   ],
   "source": [
    "print(response.text)"
   ]
  },
  {
   "cell_type": "code",
   "execution_count": 62,
   "id": "6391ec29-e875-4017-98d1-90bb698dc2d2",
   "metadata": {},
   "outputs": [],
   "source": [
    "# video_id = \"2cd544e8fe5c4b0b94a630d4e1583265\"\n",
    "video_id = \"91c671fefa4b4273b570793fb976b281\""
   ]
  },
  {
   "cell_type": "code",
   "execution_count": 63,
   "id": "2463af7f-efbb-4102-a844-d774b169599f",
   "metadata": {},
   "outputs": [
    {
     "name": "stdout",
     "output_type": "stream",
     "text": [
      "https://api.heygen.com/v1/video_status.get?video_id=91c671fefa4b4273b570793fb976b281\n"
     ]
    }
   ],
   "source": [
    "# check status of job\n",
    "BASE_VIDEO_STATUS_URL = \"https://api.heygen.com/v1/video_status.get\"\n",
    "video_status_url = BASE_VIDEO_STATUS_URL+\"?video_id=\"+video_id\n",
    "print(video_status_url)\n",
    "status_headers = {\n",
    "    \"accept\": \"application/json\",\n",
    "    'x-api-key': HG_API_KEY \n",
    "}\n",
    "\n",
    "status_response = requests.get(url=video_status_url, json=payload, headers=status_headers)"
   ]
  },
  {
   "cell_type": "code",
   "execution_count": 64,
   "id": "d9375b85-9d39-4c48-a3d6-a34e781e7b0e",
   "metadata": {},
   "outputs": [
    {
     "name": "stdout",
     "output_type": "stream",
     "text": [
      "{\"code\":100,\"data\":{\"callback_id\":null,\"caption_url\":\"\",\"duration\":1.17549e-38,\"error\":null,\"gif_url\":null,\"id\":\"91c671fefa4b4273b570793fb976b281\",\"status\":\"completed\",\"thumbnail_url\":\"https://files.heygen.ai/aws_pacific/avatar_tmp/e664822f52e742e09e517d16ed85811b/ba69396d83914fb18398f0fa5e2f5b19.jpg?Expires=1707157634&Signature=IDZt7L34eHpWbYQIRPYBktEQNxmlUPo2gKxqsOXtd0quPq61Jek1WFOusvQxHuzfLqzqIIKaNFssatWX7VPL0HwaICwTg1LYSc8Ba-n~rFwRsNTBeQBVJsVWkFvk7vjytHnOQnFyi3M7YdsmIPTY~tUX22QvsUquSIn9LLRBa7RRISaxh5XxEMNTHEmQv1fxIGREOH9iSE75mk68IdSeodwY5OZ78101a21F6YRlZ1wmmFtUkaNghAxHPCVUxSCSE2gcVQzUUN3LRbsIBiZ1x6uLYiXSRC5684UlcSSM5yYiO8x52Zj71BPCtrjkA38XE1-rRJCTn0jBSv57tq6GMw__&Key-Pair-Id=K49TZTO9GZI6K\",\"video_url\":\"https://files.heygen.ai/aws_pacific/avatar_tmp/e664822f52e742e09e517d16ed85811b/bdedca9878494f4e844b500aaf724920.mp4?Expires=1707157634&Signature=R3-n3QzIgNMTdap9Kb1wBa3CIV-yid8Ce3ee7pteNrGBQOkBs8RvRS2NM-Gmrra6rIL4Cz18wkdZalsCFw7-Kw6e-KAK0DvB3MfZ4gOnY-yeibGfWlVM8I8skYEUpbyi5-O42OywiWFLgXfLci7G5OG6OFXG4BySKhU-mmQ-FHSO6cKu4-yu-n-53fYNEHawd3l8dObIFigM-6DK39EwYur3kVsqqJItLi4AEPawzOyeAhI~ieQyA8MX7O4pXha5Z-zZ~fdBGzHDGdHV1ac2~FNW-S0ZGIv4jy1PyPspiAi2fi8FZpzZFEKbVmrINnilqpbZRsnqxuprDyeOi2-hYQ__&Key-Pair-Id=K49TZTO9GZI6K\",\"video_url_caption\":null},\"message\":\"Success\"}\n",
      "\n"
     ]
    }
   ],
   "source": [
    "print(status_response.text)"
   ]
  },
  {
   "cell_type": "code",
   "execution_count": null,
   "id": "8a96de95-49d0-457c-be4d-bd07e7f1b03d",
   "metadata": {},
   "outputs": [],
   "source": []
  }
 ],
 "metadata": {
  "kernelspec": {
   "display_name": "vgen_env",
   "language": "python",
   "name": "vgen_env"
  },
  "language_info": {
   "codemirror_mode": {
    "name": "ipython",
    "version": 3
   },
   "file_extension": ".py",
   "mimetype": "text/x-python",
   "name": "python",
   "nbconvert_exporter": "python",
   "pygments_lexer": "ipython3",
   "version": "3.9.16"
  }
 },
 "nbformat": 4,
 "nbformat_minor": 5
}
